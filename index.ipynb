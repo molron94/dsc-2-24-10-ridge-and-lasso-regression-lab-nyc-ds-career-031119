{
 "cells": [
  {
   "cell_type": "markdown",
   "metadata": {},
   "source": [
    "# Ridge and Lasso Regression - Lab"
   ]
  },
  {
   "cell_type": "markdown",
   "metadata": {},
   "source": [
    "## Introduction"
   ]
  },
  {
   "cell_type": "markdown",
   "metadata": {},
   "source": [
    "In this lab, you'll practice your knowledge on Ridge and Lasso regression!"
   ]
  },
  {
   "cell_type": "markdown",
   "metadata": {},
   "source": [
    "## Objectives"
   ]
  },
  {
   "cell_type": "markdown",
   "metadata": {},
   "source": [
    "You will be able to:"
   ]
  },
  {
   "cell_type": "markdown",
   "metadata": {},
   "source": [
    "- Use Lasso and ridge regression in Python\n",
    "- Compare Lasso and Ridge with standard regression"
   ]
  },
  {
   "cell_type": "markdown",
   "metadata": {},
   "source": [
    "## Housing Prices Data"
   ]
  },
  {
   "cell_type": "markdown",
   "metadata": {},
   "source": [
    "Let's look at yet another house pricing data set."
   ]
  },
  {
   "cell_type": "code",
   "execution_count": 1,
   "metadata": {},
   "outputs": [],
   "source": [
    "import pandas as pd\n",
    "import warnings\n",
    "warnings.filterwarnings('ignore')\n",
    "\n",
    "df = pd.read_csv('Housing_Prices/train.csv')"
   ]
  },
  {
   "cell_type": "markdown",
   "metadata": {},
   "source": [
    "Look at df.info"
   ]
  },
  {
   "cell_type": "code",
   "execution_count": 9,
   "metadata": {},
   "outputs": [
    {
     "name": "stdout",
     "output_type": "stream",
     "text": [
      "<class 'pandas.core.frame.DataFrame'>\n",
      "RangeIndex: 1460 entries, 0 to 1459\n",
      "Data columns (total 81 columns):\n",
      "Id               1460 non-null int64\n",
      "MSSubClass       1460 non-null int64\n",
      "MSZoning         1460 non-null object\n",
      "LotFrontage      1201 non-null float64\n",
      "LotArea          1460 non-null int64\n",
      "Street           1460 non-null object\n",
      "Alley            91 non-null object\n",
      "LotShape         1460 non-null object\n",
      "LandContour      1460 non-null object\n",
      "Utilities        1460 non-null object\n",
      "LotConfig        1460 non-null object\n",
      "LandSlope        1460 non-null object\n",
      "Neighborhood     1460 non-null object\n",
      "Condition1       1460 non-null object\n",
      "Condition2       1460 non-null object\n",
      "BldgType         1460 non-null object\n",
      "HouseStyle       1460 non-null object\n",
      "OverallQual      1460 non-null int64\n",
      "OverallCond      1460 non-null int64\n",
      "YearBuilt        1460 non-null int64\n",
      "YearRemodAdd     1460 non-null int64\n",
      "RoofStyle        1460 non-null object\n",
      "RoofMatl         1460 non-null object\n",
      "Exterior1st      1460 non-null object\n",
      "Exterior2nd      1460 non-null object\n",
      "MasVnrType       1452 non-null object\n",
      "MasVnrArea       1452 non-null float64\n",
      "ExterQual        1460 non-null object\n",
      "ExterCond        1460 non-null object\n",
      "Foundation       1460 non-null object\n",
      "BsmtQual         1423 non-null object\n",
      "BsmtCond         1423 non-null object\n",
      "BsmtExposure     1422 non-null object\n",
      "BsmtFinType1     1423 non-null object\n",
      "BsmtFinSF1       1460 non-null int64\n",
      "BsmtFinType2     1422 non-null object\n",
      "BsmtFinSF2       1460 non-null int64\n",
      "BsmtUnfSF        1460 non-null int64\n",
      "TotalBsmtSF      1460 non-null int64\n",
      "Heating          1460 non-null object\n",
      "HeatingQC        1460 non-null object\n",
      "CentralAir       1460 non-null object\n",
      "Electrical       1459 non-null object\n",
      "1stFlrSF         1460 non-null int64\n",
      "2ndFlrSF         1460 non-null int64\n",
      "LowQualFinSF     1460 non-null int64\n",
      "GrLivArea        1460 non-null int64\n",
      "BsmtFullBath     1460 non-null int64\n",
      "BsmtHalfBath     1460 non-null int64\n",
      "FullBath         1460 non-null int64\n",
      "HalfBath         1460 non-null int64\n",
      "BedroomAbvGr     1460 non-null int64\n",
      "KitchenAbvGr     1460 non-null int64\n",
      "KitchenQual      1460 non-null object\n",
      "TotRmsAbvGrd     1460 non-null int64\n",
      "Functional       1460 non-null object\n",
      "Fireplaces       1460 non-null int64\n",
      "FireplaceQu      770 non-null object\n",
      "GarageType       1379 non-null object\n",
      "GarageYrBlt      1379 non-null float64\n",
      "GarageFinish     1379 non-null object\n",
      "GarageCars       1460 non-null int64\n",
      "GarageArea       1460 non-null int64\n",
      "GarageQual       1379 non-null object\n",
      "GarageCond       1379 non-null object\n",
      "PavedDrive       1460 non-null object\n",
      "WoodDeckSF       1460 non-null int64\n",
      "OpenPorchSF      1460 non-null int64\n",
      "EnclosedPorch    1460 non-null int64\n",
      "3SsnPorch        1460 non-null int64\n",
      "ScreenPorch      1460 non-null int64\n",
      "PoolArea         1460 non-null int64\n",
      "PoolQC           7 non-null object\n",
      "Fence            281 non-null object\n",
      "MiscFeature      54 non-null object\n",
      "MiscVal          1460 non-null int64\n",
      "MoSold           1460 non-null int64\n",
      "YrSold           1460 non-null int64\n",
      "SaleType         1460 non-null object\n",
      "SaleCondition    1460 non-null object\n",
      "SalePrice        1460 non-null int64\n",
      "dtypes: float64(3), int64(35), object(43)\n",
      "memory usage: 924.0+ KB\n"
     ]
    }
   ],
   "source": [
    "# Your code here\n",
    "df.info()"
   ]
  },
  {
   "cell_type": "markdown",
   "metadata": {},
   "source": [
    "We'll make a first selection of the data by removing some of the data with `dtype = object`, this way our first model only contains **continuous features**\n",
    "\n",
    "Make sure to remove the SalesPrice column from the predictors (which you store in `X`), then replace missing inputs by the median per feature.\n",
    "\n",
    "Store the target in `y`."
   ]
  },
  {
   "cell_type": "code",
   "execution_count": 13,
   "metadata": {},
   "outputs": [],
   "source": [
    "# Load necessary packages\n",
    "import numpy as np\n",
    "\n",
    "df=df[df.describe().columns]\n",
    "\n",
    "# remove \"object\"-type features and SalesPrice from `X`\n",
    "\n",
    "\n",
    "\n",
    "# Impute null values\n",
    "\n",
    "\n",
    "# Create y\n"
   ]
  },
  {
   "cell_type": "code",
   "execution_count": 22,
   "metadata": {},
   "outputs": [],
   "source": [
    "for col in df.columns:\n",
    "    df[col]=df[col].fillna(df[col].median())"
   ]
  },
  {
   "cell_type": "markdown",
   "metadata": {},
   "source": [
    "Look at the information of `X` again"
   ]
  },
  {
   "cell_type": "code",
   "execution_count": 24,
   "metadata": {},
   "outputs": [
    {
     "data": {
      "text/plain": [
       "<bound method DataFrame.info of         Id  MSSubClass  LotFrontage  LotArea  OverallQual  OverallCond  \\\n",
       "0        1          60         65.0     8450            7            5   \n",
       "1        2          20         80.0     9600            6            8   \n",
       "2        3          60         68.0    11250            7            5   \n",
       "3        4          70         60.0     9550            7            5   \n",
       "4        5          60         84.0    14260            8            5   \n",
       "5        6          50         85.0    14115            5            5   \n",
       "6        7          20         75.0    10084            8            5   \n",
       "7        8          60         69.0    10382            7            6   \n",
       "8        9          50         51.0     6120            7            5   \n",
       "9       10         190         50.0     7420            5            6   \n",
       "10      11          20         70.0    11200            5            5   \n",
       "11      12          60         85.0    11924            9            5   \n",
       "12      13          20         69.0    12968            5            6   \n",
       "13      14          20         91.0    10652            7            5   \n",
       "14      15          20         69.0    10920            6            5   \n",
       "15      16          45         51.0     6120            7            8   \n",
       "16      17          20         69.0    11241            6            7   \n",
       "17      18          90         72.0    10791            4            5   \n",
       "18      19          20         66.0    13695            5            5   \n",
       "19      20          20         70.0     7560            5            6   \n",
       "20      21          60        101.0    14215            8            5   \n",
       "21      22          45         57.0     7449            7            7   \n",
       "22      23          20         75.0     9742            8            5   \n",
       "23      24         120         44.0     4224            5            7   \n",
       "24      25          20         69.0     8246            5            8   \n",
       "25      26          20        110.0    14230            8            5   \n",
       "26      27          20         60.0     7200            5            7   \n",
       "27      28          20         98.0    11478            8            5   \n",
       "28      29          20         47.0    16321            5            6   \n",
       "29      30          30         60.0     6324            4            6   \n",
       "...    ...         ...          ...      ...          ...          ...   \n",
       "1430  1431          60         60.0    21930            5            5   \n",
       "1431  1432         120         69.0     4928            6            6   \n",
       "1432  1433          30         60.0    10800            4            6   \n",
       "1433  1434          60         93.0    10261            6            5   \n",
       "1434  1435          20         80.0    17400            5            5   \n",
       "1435  1436          20         80.0     8400            6            9   \n",
       "1436  1437          20         60.0     9000            4            6   \n",
       "1437  1438          20         96.0    12444            8            5   \n",
       "1438  1439          20         90.0     7407            6            7   \n",
       "1439  1440          60         80.0    11584            7            6   \n",
       "1440  1441          70         79.0    11526            6            7   \n",
       "1441  1442         120         69.0     4426            6            5   \n",
       "1442  1443          60         85.0    11003           10            5   \n",
       "1443  1444          30         69.0     8854            6            6   \n",
       "1444  1445          20         63.0     8500            7            5   \n",
       "1445  1446          85         70.0     8400            6            5   \n",
       "1446  1447          20         69.0    26142            5            7   \n",
       "1447  1448          60         80.0    10000            8            5   \n",
       "1448  1449          50         70.0    11767            4            7   \n",
       "1449  1450         180         21.0     1533            5            7   \n",
       "1450  1451          90         60.0     9000            5            5   \n",
       "1451  1452          20         78.0     9262            8            5   \n",
       "1452  1453         180         35.0     3675            5            5   \n",
       "1453  1454          20         90.0    17217            5            5   \n",
       "1454  1455          20         62.0     7500            7            5   \n",
       "1455  1456          60         62.0     7917            6            5   \n",
       "1456  1457          20         85.0    13175            6            6   \n",
       "1457  1458          70         66.0     9042            7            9   \n",
       "1458  1459          20         68.0     9717            5            6   \n",
       "1459  1460          20         75.0     9937            5            6   \n",
       "\n",
       "      YearBuilt  YearRemodAdd  MasVnrArea  BsmtFinSF1    ...      WoodDeckSF  \\\n",
       "0          2003          2003       196.0         706    ...               0   \n",
       "1          1976          1976         0.0         978    ...             298   \n",
       "2          2001          2002       162.0         486    ...               0   \n",
       "3          1915          1970         0.0         216    ...               0   \n",
       "4          2000          2000       350.0         655    ...             192   \n",
       "5          1993          1995         0.0         732    ...              40   \n",
       "6          2004          2005       186.0        1369    ...             255   \n",
       "7          1973          1973       240.0         859    ...             235   \n",
       "8          1931          1950         0.0           0    ...              90   \n",
       "9          1939          1950         0.0         851    ...               0   \n",
       "10         1965          1965         0.0         906    ...               0   \n",
       "11         2005          2006       286.0         998    ...             147   \n",
       "12         1962          1962         0.0         737    ...             140   \n",
       "13         2006          2007       306.0           0    ...             160   \n",
       "14         1960          1960       212.0         733    ...               0   \n",
       "15         1929          2001         0.0           0    ...              48   \n",
       "16         1970          1970       180.0         578    ...               0   \n",
       "17         1967          1967         0.0           0    ...               0   \n",
       "18         2004          2004         0.0         646    ...               0   \n",
       "19         1958          1965         0.0         504    ...               0   \n",
       "20         2005          2006       380.0           0    ...             240   \n",
       "21         1930          1950         0.0           0    ...               0   \n",
       "22         2002          2002       281.0           0    ...             171   \n",
       "23         1976          1976         0.0         840    ...             100   \n",
       "24         1968          2001         0.0         188    ...             406   \n",
       "25         2007          2007       640.0           0    ...               0   \n",
       "26         1951          2000         0.0         234    ...             222   \n",
       "27         2007          2008       200.0        1218    ...               0   \n",
       "28         1957          1997         0.0        1277    ...             288   \n",
       "29         1927          1950         0.0           0    ...              49   \n",
       "...         ...           ...         ...         ...    ...             ...   \n",
       "1430       2005          2005         0.0           0    ...             100   \n",
       "1431       1976          1976         0.0         958    ...               0   \n",
       "1432       1927          2007         0.0           0    ...               0   \n",
       "1433       2000          2000       318.0           0    ...               0   \n",
       "1434       1977          1977         0.0         936    ...             295   \n",
       "1435       1962          2005       237.0           0    ...               0   \n",
       "1436       1971          1971         0.0         616    ...               0   \n",
       "1437       2008          2008       426.0        1336    ...               0   \n",
       "1438       1957          1996         0.0         600    ...               0   \n",
       "1439       1979          1979        96.0         315    ...               0   \n",
       "1440       1922          1994         0.0           0    ...             431   \n",
       "1441       2004          2004       147.0         697    ...             149   \n",
       "1442       2008          2008       160.0         765    ...             168   \n",
       "1443       1916          1950         0.0           0    ...               0   \n",
       "1444       2004          2004       106.0           0    ...             192   \n",
       "1445       1966          1966         0.0         187    ...               0   \n",
       "1446       1962          1962       189.0         593    ...             261   \n",
       "1447       1995          1996       438.0        1079    ...               0   \n",
       "1448       1910          2000         0.0           0    ...             168   \n",
       "1449       1970          1970         0.0         553    ...               0   \n",
       "1450       1974          1974         0.0           0    ...              32   \n",
       "1451       2008          2009       194.0           0    ...               0   \n",
       "1452       2005          2005        80.0         547    ...               0   \n",
       "1453       2006          2006         0.0           0    ...              36   \n",
       "1454       2004          2005         0.0         410    ...               0   \n",
       "1455       1999          2000         0.0           0    ...               0   \n",
       "1456       1978          1988       119.0         790    ...             349   \n",
       "1457       1941          2006         0.0         275    ...               0   \n",
       "1458       1950          1996         0.0          49    ...             366   \n",
       "1459       1965          1965         0.0         830    ...             736   \n",
       "\n",
       "      OpenPorchSF  EnclosedPorch  3SsnPorch  ScreenPorch  PoolArea  MiscVal  \\\n",
       "0              61              0          0            0         0        0   \n",
       "1               0              0          0            0         0        0   \n",
       "2              42              0          0            0         0        0   \n",
       "3              35            272          0            0         0        0   \n",
       "4              84              0          0            0         0        0   \n",
       "5              30              0        320            0         0      700   \n",
       "6              57              0          0            0         0        0   \n",
       "7             204            228          0            0         0      350   \n",
       "8               0            205          0            0         0        0   \n",
       "9               4              0          0            0         0        0   \n",
       "10              0              0          0            0         0        0   \n",
       "11             21              0          0            0         0        0   \n",
       "12              0              0          0          176         0        0   \n",
       "13             33              0          0            0         0        0   \n",
       "14            213            176          0            0         0        0   \n",
       "15            112              0          0            0         0        0   \n",
       "16              0              0          0            0         0      700   \n",
       "17              0              0          0            0         0      500   \n",
       "18            102              0          0            0         0        0   \n",
       "19              0              0          0            0         0        0   \n",
       "20            154              0          0            0         0        0   \n",
       "21              0            205          0            0         0        0   \n",
       "22            159              0          0            0         0        0   \n",
       "23            110              0          0            0         0        0   \n",
       "24             90              0          0            0         0        0   \n",
       "25             56              0          0            0         0        0   \n",
       "26             32              0          0            0         0        0   \n",
       "27             50              0          0            0         0        0   \n",
       "28            258              0          0            0         0        0   \n",
       "29              0             87          0            0         0        0   \n",
       "...           ...            ...        ...          ...       ...      ...   \n",
       "1430           40              0          0            0         0        0   \n",
       "1431           60              0          0            0         0        0   \n",
       "1432            0              0          0            0         0        0   \n",
       "1433            0              0          0            0         0        0   \n",
       "1434           41              0          0            0         0        0   \n",
       "1435           36              0          0            0         0        0   \n",
       "1436            0              0          0            0         0        0   \n",
       "1437           66              0        304            0         0        0   \n",
       "1438          158            158          0            0         0        0   \n",
       "1439           88            216          0            0         0        0   \n",
       "1440            0              0          0            0         0        0   \n",
       "1441            0              0          0            0         0        0   \n",
       "1442           52              0          0            0         0        0   \n",
       "1443           98              0          0           40         0        0   \n",
       "1444           60              0          0            0         0        0   \n",
       "1445            0            252          0            0         0        0   \n",
       "1446           39              0          0            0         0        0   \n",
       "1447           65              0          0            0         0        0   \n",
       "1448           24              0          0            0         0        0   \n",
       "1449            0              0          0            0         0        0   \n",
       "1450           45              0          0            0         0        0   \n",
       "1451           36              0          0            0         0        0   \n",
       "1452           28              0          0            0         0        0   \n",
       "1453           56              0          0            0         0        0   \n",
       "1454          113              0          0            0         0        0   \n",
       "1455           40              0          0            0         0        0   \n",
       "1456            0              0          0            0         0        0   \n",
       "1457           60              0          0            0         0     2500   \n",
       "1458            0            112          0            0         0        0   \n",
       "1459           68              0          0            0         0        0   \n",
       "\n",
       "      MoSold  YrSold  SalePrice  \n",
       "0          2    2008     208500  \n",
       "1          5    2007     181500  \n",
       "2          9    2008     223500  \n",
       "3          2    2006     140000  \n",
       "4         12    2008     250000  \n",
       "5         10    2009     143000  \n",
       "6          8    2007     307000  \n",
       "7         11    2009     200000  \n",
       "8          4    2008     129900  \n",
       "9          1    2008     118000  \n",
       "10         2    2008     129500  \n",
       "11         7    2006     345000  \n",
       "12         9    2008     144000  \n",
       "13         8    2007     279500  \n",
       "14         5    2008     157000  \n",
       "15         7    2007     132000  \n",
       "16         3    2010     149000  \n",
       "17        10    2006      90000  \n",
       "18         6    2008     159000  \n",
       "19         5    2009     139000  \n",
       "20        11    2006     325300  \n",
       "21         6    2007     139400  \n",
       "22         9    2008     230000  \n",
       "23         6    2007     129900  \n",
       "24         5    2010     154000  \n",
       "25         7    2009     256300  \n",
       "26         5    2010     134800  \n",
       "27         5    2010     306000  \n",
       "28        12    2006     207500  \n",
       "29         5    2008      68500  \n",
       "...      ...     ...        ...  \n",
       "1430       7    2006     192140  \n",
       "1431      10    2009     143750  \n",
       "1432       8    2007      64500  \n",
       "1433       5    2008     186500  \n",
       "1434       5    2006     160000  \n",
       "1435       7    2008     174000  \n",
       "1436       5    2007     120500  \n",
       "1437      11    2008     394617  \n",
       "1438       4    2010     149700  \n",
       "1439      11    2007     197000  \n",
       "1440       9    2008     191000  \n",
       "1441       5    2008     149300  \n",
       "1442       4    2009     310000  \n",
       "1443       5    2009     121000  \n",
       "1444      11    2007     179600  \n",
       "1445       5    2007     129000  \n",
       "1446       4    2010     157900  \n",
       "1447      12    2007     240000  \n",
       "1448       5    2007     112000  \n",
       "1449       8    2006      92000  \n",
       "1450       9    2009     136000  \n",
       "1451       5    2009     287090  \n",
       "1452       5    2006     145000  \n",
       "1453       7    2006      84500  \n",
       "1454      10    2009     185000  \n",
       "1455       8    2007     175000  \n",
       "1456       2    2010     210000  \n",
       "1457       5    2010     266500  \n",
       "1458       4    2010     142125  \n",
       "1459       6    2008     147500  \n",
       "\n",
       "[1460 rows x 38 columns]>"
      ]
     },
     "execution_count": 24,
     "metadata": {},
     "output_type": "execute_result"
    }
   ],
   "source": [
    "df.info"
   ]
  },
  {
   "cell_type": "markdown",
   "metadata": {},
   "source": [
    "## Let's use this data to perform a first naive linear regression model"
   ]
  },
  {
   "cell_type": "markdown",
   "metadata": {},
   "source": [
    "Compute the R squared and the MSE for both train and test set."
   ]
  },
  {
   "cell_type": "code",
   "execution_count": null,
   "metadata": {},
   "outputs": [],
   "source": [
    "from sklearn.metrics import mean_squared_error, mean_squared_log_error\n",
    "\n",
    "# Split in train and test\n",
    "\n",
    "# Fit the model and print R2 and MSE for train and test\n"
   ]
  },
  {
   "cell_type": "markdown",
   "metadata": {},
   "source": [
    "## Normalize your data"
   ]
  },
  {
   "cell_type": "markdown",
   "metadata": {},
   "source": [
    "We haven't normalized our data, let's create a new model that uses `preprocessing.scale` to scale our predictors!"
   ]
  },
  {
   "cell_type": "code",
   "execution_count": null,
   "metadata": {},
   "outputs": [],
   "source": [
    "from sklearn import preprocessing\n",
    "\n",
    "# Scale the data and perform train test split\n",
    "\n"
   ]
  },
  {
   "cell_type": "markdown",
   "metadata": {},
   "source": [
    "Perform the same linear regression on this data and print out R-squared and MSE."
   ]
  },
  {
   "cell_type": "code",
   "execution_count": null,
   "metadata": {},
   "outputs": [],
   "source": [
    "# Your code here"
   ]
  },
  {
   "cell_type": "markdown",
   "metadata": {},
   "source": [
    "## Include dummy variables"
   ]
  },
  {
   "cell_type": "markdown",
   "metadata": {},
   "source": [
    "We haven't included dummy variables so far: let's use our \"object\" variables again and create dummies"
   ]
  },
  {
   "cell_type": "code",
   "execution_count": null,
   "metadata": {},
   "outputs": [],
   "source": [
    "# Create X_cat which contains only the categorical variables"
   ]
  },
  {
   "cell_type": "code",
   "execution_count": null,
   "metadata": {},
   "outputs": [],
   "source": [
    "# Make dummies\n"
   ]
  },
  {
   "cell_type": "markdown",
   "metadata": {},
   "source": [
    "Merge `x_cat` together with our scaled `X` so you have one big predictor dataframe."
   ]
  },
  {
   "cell_type": "code",
   "execution_count": null,
   "metadata": {},
   "outputs": [],
   "source": [
    "# Your code here"
   ]
  },
  {
   "cell_type": "markdown",
   "metadata": {},
   "source": [
    "Perform the same linear regression on this data and print out R-squared and MSE."
   ]
  },
  {
   "cell_type": "code",
   "execution_count": null,
   "metadata": {},
   "outputs": [],
   "source": [
    "# Your code here"
   ]
  },
  {
   "cell_type": "markdown",
   "metadata": {},
   "source": [
    "Notice the severe overfitting above; our training R squared is quite high, but the testing R squared is negative! Our predictions are far far off. Similarly, the scale of the Testing MSE is orders of magnitude higher then that of the training."
   ]
  },
  {
   "cell_type": "markdown",
   "metadata": {},
   "source": [
    "## Perform Ridge and Lasso regression"
   ]
  },
  {
   "cell_type": "markdown",
   "metadata": {},
   "source": [
    "Use all the data (normalized features and dummy categorical variables) and perform Lasso and Ridge regression for both! Each time, look at R-squared and MSE."
   ]
  },
  {
   "cell_type": "markdown",
   "metadata": {},
   "source": [
    "## Lasso"
   ]
  },
  {
   "cell_type": "markdown",
   "metadata": {},
   "source": [
    "With default parameter (alpha = 1)"
   ]
  },
  {
   "cell_type": "code",
   "execution_count": null,
   "metadata": {},
   "outputs": [],
   "source": [
    "# Your code here"
   ]
  },
  {
   "cell_type": "markdown",
   "metadata": {},
   "source": [
    "With a higher regularization parameter (alpha = 10)"
   ]
  },
  {
   "cell_type": "code",
   "execution_count": null,
   "metadata": {},
   "outputs": [],
   "source": [
    "# Your code here"
   ]
  },
  {
   "cell_type": "markdown",
   "metadata": {},
   "source": [
    "## Ridge"
   ]
  },
  {
   "cell_type": "markdown",
   "metadata": {},
   "source": [
    "With default parameter (alpha = 1)"
   ]
  },
  {
   "cell_type": "code",
   "execution_count": null,
   "metadata": {},
   "outputs": [],
   "source": [
    "# Your code here"
   ]
  },
  {
   "cell_type": "markdown",
   "metadata": {},
   "source": [
    "With default parameter (alpha = 10)"
   ]
  },
  {
   "cell_type": "code",
   "execution_count": null,
   "metadata": {},
   "outputs": [],
   "source": [
    "# Your code here"
   ]
  },
  {
   "cell_type": "markdown",
   "metadata": {},
   "source": [
    "## Look at the metrics, what are your main conclusions?"
   ]
  },
  {
   "cell_type": "markdown",
   "metadata": {},
   "source": [
    "Conclusions here"
   ]
  },
  {
   "cell_type": "markdown",
   "metadata": {},
   "source": [
    "## Compare number of parameter estimates that are (very close to) 0 for Ridge and Lasso"
   ]
  },
  {
   "cell_type": "code",
   "execution_count": null,
   "metadata": {},
   "outputs": [],
   "source": [
    "# number of Ridge params almost zero"
   ]
  },
  {
   "cell_type": "code",
   "execution_count": null,
   "metadata": {},
   "outputs": [],
   "source": [
    "# number of Lasso params almost zero"
   ]
  },
  {
   "cell_type": "markdown",
   "metadata": {},
   "source": [
    "Compare with the total length of the parameter space and draw conclusions!"
   ]
  },
  {
   "cell_type": "code",
   "execution_count": null,
   "metadata": {},
   "outputs": [],
   "source": [
    "# your code here"
   ]
  },
  {
   "cell_type": "markdown",
   "metadata": {},
   "source": [
    "## Summary"
   ]
  },
  {
   "cell_type": "markdown",
   "metadata": {},
   "source": [
    "Great! You now know how to perform Lasso and Ridge regression."
   ]
  }
 ],
 "metadata": {
  "kernelspec": {
   "display_name": "Python 3",
   "language": "python",
   "name": "python3"
  },
  "language_info": {
   "codemirror_mode": {
    "name": "ipython",
    "version": 3
   },
   "file_extension": ".py",
   "mimetype": "text/x-python",
   "name": "python",
   "nbconvert_exporter": "python",
   "pygments_lexer": "ipython3",
   "version": "3.6.6"
  }
 },
 "nbformat": 4,
 "nbformat_minor": 2
}
